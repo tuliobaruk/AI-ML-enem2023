{
 "cells": [
  {
   "cell_type": "code",
   "execution_count": null,
   "metadata": {},
   "outputs": [],
   "source": [
    "import pandas as pd\n",
    "from sklearn.model_selection import train_test_split\n",
    "from sklearn.linear_model import LogisticRegression\n",
    "from sklearn.tree import DecisionTreeClassifier\n",
    "from sklearn.ensemble import RandomForestClassifier, GradientBoostingClassifier\n",
    "from sklearn.metrics import classification_report"
   ]
  },
  {
   "cell_type": "code",
   "execution_count": 2,
   "metadata": {},
   "outputs": [],
   "source": [
    "dadosEnem = pd.read_csv(\"../dadosFiltradosEnem.csv\")"
   ]
  },
  {
   "cell_type": "code",
   "execution_count": 3,
   "metadata": {},
   "outputs": [],
   "source": [
    "# Seleção de features e target\n",
    "X = dadosEnem.drop(['PRESENCA_COMPLETA'], axis=1)\n",
    "y = dadosEnem['PRESENCA_COMPLETA']"
   ]
  },
  {
   "cell_type": "code",
   "execution_count": 5,
   "metadata": {},
   "outputs": [],
   "source": [
    "# Divisão dos dados em treino e teste\n",
    "X_train, X_test, y_train, y_test = train_test_split(X, y, test_size=0.3, random_state=42)"
   ]
  },
  {
   "cell_type": "code",
   "execution_count": 6,
   "metadata": {},
   "outputs": [
    {
     "name": "stdout",
     "output_type": "stream",
     "text": [
      "Regressão Logística\n",
      "               precision    recall  f1-score   support\n",
      "\n",
      "           0       0.53      0.22      0.31    376872\n",
      "           1       0.71      0.91      0.80    803315\n",
      "\n",
      "    accuracy                           0.69   1180187\n",
      "   macro avg       0.62      0.56      0.55   1180187\n",
      "weighted avg       0.66      0.69      0.64   1180187\n",
      "\n"
     ]
    }
   ],
   "source": [
    "# Regressão Logística\n",
    "log_reg = LogisticRegression(max_iter=1000)\n",
    "log_reg.fit(X_train, y_train)\n",
    "y_pred_log_reg = log_reg.predict(X_test)\n",
    "print(\"Regressão Logística\\n\", classification_report(y_test, y_pred_log_reg))"
   ]
  },
  {
   "cell_type": "code",
   "execution_count": 7,
   "metadata": {},
   "outputs": [
    {
     "name": "stdout",
     "output_type": "stream",
     "text": [
      "Árvore de Decisão\n",
      "               precision    recall  f1-score   support\n",
      "\n",
      "           0       0.54      0.28      0.37    376872\n",
      "           1       0.72      0.89      0.80    803315\n",
      "\n",
      "    accuracy                           0.69   1180187\n",
      "   macro avg       0.63      0.58      0.58   1180187\n",
      "weighted avg       0.67      0.69      0.66   1180187\n",
      "\n"
     ]
    }
   ],
   "source": [
    "# Árvore de Decisão\n",
    "tree = DecisionTreeClassifier()\n",
    "tree.fit(X_train, y_train)\n",
    "y_pred_tree = tree.predict(X_test)\n",
    "print(\"Árvore de Decisão\\n\", classification_report(y_test, y_pred_tree))"
   ]
  },
  {
   "cell_type": "code",
   "execution_count": 8,
   "metadata": {},
   "outputs": [
    {
     "name": "stdout",
     "output_type": "stream",
     "text": [
      "Random Forest\n",
      "               precision    recall  f1-score   support\n",
      "\n",
      "           0       0.54      0.27      0.37    376872\n",
      "           1       0.72      0.89      0.80    803315\n",
      "\n",
      "    accuracy                           0.69   1180187\n",
      "   macro avg       0.63      0.58      0.58   1180187\n",
      "weighted avg       0.67      0.69      0.66   1180187\n",
      "\n"
     ]
    }
   ],
   "source": [
    "# Random Forest\n",
    "forest = RandomForestClassifier()\n",
    "forest.fit(X_train, y_train)\n",
    "y_pred_forest = forest.predict(X_test)\n",
    "print(\"Random Forest\\n\", classification_report(y_test, y_pred_forest))"
   ]
  },
  {
   "cell_type": "code",
   "execution_count": 9,
   "metadata": {},
   "outputs": [
    {
     "name": "stdout",
     "output_type": "stream",
     "text": [
      "Gradient Boosting\n",
      "               precision    recall  f1-score   support\n",
      "\n",
      "           0       0.56      0.25      0.35    376872\n",
      "           1       0.72      0.91      0.80    803315\n",
      "\n",
      "    accuracy                           0.70   1180187\n",
      "   macro avg       0.64      0.58      0.58   1180187\n",
      "weighted avg       0.67      0.70      0.66   1180187\n",
      "\n"
     ]
    }
   ],
   "source": [
    "# Gradient Boosting\n",
    "grad_boost = GradientBoostingClassifier()\n",
    "grad_boost.fit(X_train, y_train)\n",
    "y_pred_grad_boost = grad_boost.predict(X_test)\n",
    "print(\"Gradient Boosting\\n\", classification_report(y_test, y_pred_grad_boost))"
   ]
  }
 ],
 "metadata": {
  "kernelspec": {
   "display_name": "Python 3",
   "language": "python",
   "name": "python3"
  },
  "language_info": {
   "codemirror_mode": {
    "name": "ipython",
    "version": 3
   },
   "file_extension": ".py",
   "mimetype": "text/x-python",
   "name": "python",
   "nbconvert_exporter": "python",
   "pygments_lexer": "ipython3",
   "version": "3.12.4"
  }
 },
 "nbformat": 4,
 "nbformat_minor": 2
}
