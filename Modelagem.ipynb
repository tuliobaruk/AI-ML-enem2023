{
 "cells": [
  {
   "cell_type": "code",
   "execution_count": 12,
   "metadata": {},
   "outputs": [],
   "source": [
    "import pandas as pd\n",
    "import warnings\n",
    "\n",
    "# Consertando a exibição do describe\n",
    "pd.set_option('display.float_format', lambda x: '%.2f' % x)\n",
    "# Ignorando avisos de depreciação\n",
    "warnings.filterwarnings('ignore')\n",
    "\n",
    "from sklearn.metrics import accuracy_score\n",
    "from sklearn.model_selection import train_test_split\n",
    "from sklearn.metrics import precision_score, recall_score, f1_score\n",
    "from sklearn.preprocessing import StandardScaler\n",
    "scaler = StandardScaler()"
   ]
  },
  {
   "cell_type": "code",
   "execution_count": 13,
   "metadata": {},
   "outputs": [],
   "source": [
    "# Carregando os dados do ENEM 2023 preprocessados\n",
    "enemData = pd.read_csv('./Preprocessamento/PreprocessedDataframe.csv', encoding='utf-8', sep=';')"
   ]
  },
  {
   "cell_type": "code",
   "execution_count": 14,
   "metadata": {},
   "outputs": [
    {
     "data": {
      "text/plain": [
       "(3933955, 7)"
      ]
     },
     "execution_count": 14,
     "metadata": {},
     "output_type": "execute_result"
    }
   ],
   "source": [
    "# Exibindo o formato dos dados\n",
    "enemData.shape"
   ]
  },
  {
   "cell_type": "code",
   "execution_count": 15,
   "metadata": {},
   "outputs": [
    {
     "data": {
      "text/html": [
       "<div>\n",
       "<style scoped>\n",
       "    .dataframe tbody tr th:only-of-type {\n",
       "        vertical-align: middle;\n",
       "    }\n",
       "\n",
       "    .dataframe tbody tr th {\n",
       "        vertical-align: top;\n",
       "    }\n",
       "\n",
       "    .dataframe thead th {\n",
       "        text-align: right;\n",
       "    }\n",
       "</style>\n",
       "<table border=\"1\" class=\"dataframe\">\n",
       "  <thead>\n",
       "    <tr style=\"text-align: right;\">\n",
       "      <th></th>\n",
       "      <th>TP_ST_CONCLUSAO</th>\n",
       "      <th>SG_UF_PROVA_NUM</th>\n",
       "      <th>Q006</th>\n",
       "      <th>Q010</th>\n",
       "      <th>Q011</th>\n",
       "      <th>PRESENCA_COMPLETA</th>\n",
       "      <th>GRUPO_ETARIO</th>\n",
       "    </tr>\n",
       "  </thead>\n",
       "  <tbody>\n",
       "    <tr>\n",
       "      <th>count</th>\n",
       "      <td>3933955.00</td>\n",
       "      <td>3933955.00</td>\n",
       "      <td>3933955.00</td>\n",
       "      <td>3933955.00</td>\n",
       "      <td>3933955.00</td>\n",
       "      <td>3933955.00</td>\n",
       "      <td>3933955.00</td>\n",
       "    </tr>\n",
       "    <tr>\n",
       "      <th>mean</th>\n",
       "      <td>1.68</td>\n",
       "      <td>14.86</td>\n",
       "      <td>3.49</td>\n",
       "      <td>0.56</td>\n",
       "      <td>0.27</td>\n",
       "      <td>0.68</td>\n",
       "      <td>1.48</td>\n",
       "    </tr>\n",
       "    <tr>\n",
       "      <th>std</th>\n",
       "      <td>0.75</td>\n",
       "      <td>7.53</td>\n",
       "      <td>3.53</td>\n",
       "      <td>0.71</td>\n",
       "      <td>0.52</td>\n",
       "      <td>0.47</td>\n",
       "      <td>0.77</td>\n",
       "    </tr>\n",
       "    <tr>\n",
       "      <th>min</th>\n",
       "      <td>1.00</td>\n",
       "      <td>1.00</td>\n",
       "      <td>0.00</td>\n",
       "      <td>0.00</td>\n",
       "      <td>0.00</td>\n",
       "      <td>0.00</td>\n",
       "      <td>1.00</td>\n",
       "    </tr>\n",
       "    <tr>\n",
       "      <th>25%</th>\n",
       "      <td>1.00</td>\n",
       "      <td>9.00</td>\n",
       "      <td>1.00</td>\n",
       "      <td>0.00</td>\n",
       "      <td>0.00</td>\n",
       "      <td>0.00</td>\n",
       "      <td>1.00</td>\n",
       "    </tr>\n",
       "    <tr>\n",
       "      <th>50%</th>\n",
       "      <td>2.00</td>\n",
       "      <td>15.00</td>\n",
       "      <td>2.00</td>\n",
       "      <td>0.00</td>\n",
       "      <td>0.00</td>\n",
       "      <td>1.00</td>\n",
       "      <td>1.00</td>\n",
       "    </tr>\n",
       "    <tr>\n",
       "      <th>75%</th>\n",
       "      <td>2.00</td>\n",
       "      <td>21.00</td>\n",
       "      <td>5.00</td>\n",
       "      <td>1.00</td>\n",
       "      <td>0.00</td>\n",
       "      <td>1.00</td>\n",
       "      <td>2.00</td>\n",
       "    </tr>\n",
       "    <tr>\n",
       "      <th>max</th>\n",
       "      <td>4.00</td>\n",
       "      <td>27.00</td>\n",
       "      <td>16.00</td>\n",
       "      <td>4.00</td>\n",
       "      <td>4.00</td>\n",
       "      <td>1.00</td>\n",
       "      <td>4.00</td>\n",
       "    </tr>\n",
       "  </tbody>\n",
       "</table>\n",
       "</div>"
      ],
      "text/plain": [
       "       TP_ST_CONCLUSAO  SG_UF_PROVA_NUM       Q006       Q010       Q011  \\\n",
       "count       3933955.00       3933955.00 3933955.00 3933955.00 3933955.00   \n",
       "mean              1.68            14.86       3.49       0.56       0.27   \n",
       "std               0.75             7.53       3.53       0.71       0.52   \n",
       "min               1.00             1.00       0.00       0.00       0.00   \n",
       "25%               1.00             9.00       1.00       0.00       0.00   \n",
       "50%               2.00            15.00       2.00       0.00       0.00   \n",
       "75%               2.00            21.00       5.00       1.00       0.00   \n",
       "max               4.00            27.00      16.00       4.00       4.00   \n",
       "\n",
       "       PRESENCA_COMPLETA  GRUPO_ETARIO  \n",
       "count         3933955.00    3933955.00  \n",
       "mean                0.68          1.48  \n",
       "std                 0.47          0.77  \n",
       "min                 0.00          1.00  \n",
       "25%                 0.00          1.00  \n",
       "50%                 1.00          1.00  \n",
       "75%                 1.00          2.00  \n",
       "max                 1.00          4.00  "
      ]
     },
     "execution_count": 15,
     "metadata": {},
     "output_type": "execute_result"
    }
   ],
   "source": [
    "enemData.describe()"
   ]
  },
  {
   "cell_type": "code",
   "execution_count": 16,
   "metadata": {},
   "outputs": [
    {
     "name": "stdout",
     "output_type": "stream",
     "text": [
      "<class 'pandas.core.frame.DataFrame'>\n",
      "RangeIndex: 3933955 entries, 0 to 3933954\n",
      "Data columns (total 7 columns):\n",
      " #   Column             Dtype\n",
      "---  ------             -----\n",
      " 0   TP_ST_CONCLUSAO    int64\n",
      " 1   SG_UF_PROVA_NUM    int64\n",
      " 2   Q006               int64\n",
      " 3   Q010               int64\n",
      " 4   Q011               int64\n",
      " 5   PRESENCA_COMPLETA  int64\n",
      " 6   GRUPO_ETARIO       int64\n",
      "dtypes: int64(7)\n",
      "memory usage: 210.1 MB\n"
     ]
    }
   ],
   "source": [
    "# Exibindo informações básicas dos dados\n",
    "enemData.info()"
   ]
  },
  {
   "cell_type": "code",
   "execution_count": 17,
   "metadata": {},
   "outputs": [],
   "source": [
    "# Fazendo correlações\n",
    "corr = enemData.corr()"
   ]
  },
  {
   "cell_type": "code",
   "execution_count": 18,
   "metadata": {},
   "outputs": [],
   "source": [
    "# Selecionando as features (variáveis independentes)\n",
    "X = enemData.iloc[:,[0,1,2,3,4,6]]\n",
    "\n",
    "# Selecionando o target (variável dependente)\n",
    "y = enemData.iloc[:,5]"
   ]
  },
  {
   "cell_type": "code",
   "execution_count": 19,
   "metadata": {},
   "outputs": [],
   "source": [
    "# Separando os dados em conjuntos de treinamento e teste\n",
    "X_train,X_test,y_train,y_test = train_test_split(X,y,test_size=0.2)\n",
    "X_train = scaler.fit_transform(X_train)\n",
    "X_test = scaler.transform(X_test)"
   ]
  },
  {
   "cell_type": "code",
   "execution_count": 20,
   "metadata": {},
   "outputs": [
    {
     "name": "stdout",
     "output_type": "stream",
     "text": [
      "(3147164, 6)\n",
      "(786791, 6)\n",
      "(3147164,)\n",
      "(786791,)\n"
     ]
    }
   ],
   "source": [
    "# Verificando separamento\n",
    "print(X_train.shape)\n",
    "print(X_test.shape)\n",
    "print(y_train.shape)\n",
    "print(y_test.shape)"
   ]
  },
  {
   "cell_type": "code",
   "execution_count": 21,
   "metadata": {},
   "outputs": [],
   "source": [
    "# Criando função que irá avaliar os modelos\n",
    "def avaliar_modelo(clf, X_train, X_test, y_train, y_test):\n",
    "    clf.fit(X_train, y_train)\n",
    "    y_pred = clf.predict(X_test)\n",
    "    # Calculando métricas de avaliação\n",
    "    acuracia = accuracy_score(y_test, y_pred)\n",
    "    precisao = precision_score(y_test, y_pred)\n",
    "    revocacao = recall_score(y_test, y_pred)\n",
    "    f1 = f1_score(y_test, y_pred)\n",
    "    # Exibindo as métricas\n",
    "    print(f\"Acurácia: {acuracia:.2f}\")\n",
    "    print(f\"Precisão: {precisao:.2f}\")\n",
    "    print(f\"Revocação: {revocacao:.2f}\")\n",
    "    print(f\"F1-score: {f1:.2f}\")"
   ]
  },
  {
   "cell_type": "code",
   "execution_count": 22,
   "metadata": {},
   "outputs": [
    {
     "name": "stdout",
     "output_type": "stream",
     "text": [
      "Logistic Regression:\n",
      "Acurácia: 0.69\n",
      "Precisão: 0.71\n",
      "Revocação: 0.91\n",
      "F1-score: 0.80\n",
      "\n",
      "Decision Tree:\n",
      "Acurácia: 0.70\n",
      "Precisão: 0.72\n",
      "Revocação: 0.90\n",
      "F1-score: 0.80\n",
      "\n",
      "Random Forest:\n",
      "Acurácia: 0.70\n",
      "Precisão: 0.72\n",
      "Revocação: 0.91\n",
      "F1-score: 0.80\n",
      "\n",
      "Perceptron:\n",
      "Acurácia: 0.60\n",
      "Precisão: 0.68\n",
      "Revocação: 0.77\n",
      "F1-score: 0.72\n",
      "\n",
      "K-Nearest Neighbors:\n",
      "Acurácia: 0.64\n",
      "Precisão: 0.72\n",
      "Revocação: 0.78\n",
      "F1-score: 0.75\n"
     ]
    }
   ],
   "source": [
    "# Treinando e avaliando Logistic Regression\n",
    "from sklearn.linear_model import LogisticRegression\n",
    "clf = LogisticRegression()\n",
    "print(\"Logistic Regression:\")\n",
    "avaliar_modelo(clf, X_train, X_test, y_train, y_test)\n",
    "\n",
    "# Treinando e avaliando Decision Tree\n",
    "from sklearn.tree import DecisionTreeClassifier\n",
    "clf = DecisionTreeClassifier(random_state=0)\n",
    "print(\"\\nDecision Tree:\")\n",
    "avaliar_modelo(clf, X_train, X_test, y_train, y_test)\n",
    "\n",
    "# Treinando e avaliando Random Forest\n",
    "from sklearn.ensemble import RandomForestClassifier\n",
    "clf = RandomForestClassifier(max_depth=10, random_state=0)\n",
    "print(\"\\nRandom Forest:\")\n",
    "avaliar_modelo(clf, X_train, X_test, y_train, y_test)\n",
    "\n",
    "# Treinando e avaliando Perceptron\n",
    "from sklearn.linear_model import Perceptron\n",
    "clf = Perceptron(tol=1e-4, max_iter=10000, random_state=0)\n",
    "print(\"\\nPerceptron:\")\n",
    "avaliar_modelo(clf, X_train, X_test, y_train, y_test)\n",
    "\n",
    "# Treinando e avaliando K-Nearest Neighbors\n",
    "from sklearn.neighbors import KNeighborsClassifier\n",
    "clf = KNeighborsClassifier(n_neighbors=3)\n",
    "print(\"\\nK-Nearest Neighbors:\")\n",
    "avaliar_modelo(clf, X_train, X_test, y_train, y_test)\n"
   ]
  }
 ],
 "metadata": {
  "kernelspec": {
   "display_name": "base",
   "language": "python",
   "name": "python3"
  },
  "language_info": {
   "codemirror_mode": {
    "name": "ipython",
    "version": 3
   },
   "file_extension": ".py",
   "mimetype": "text/x-python",
   "name": "python",
   "nbconvert_exporter": "python",
   "pygments_lexer": "ipython3",
   "version": "3.12.4"
  }
 },
 "nbformat": 4,
 "nbformat_minor": 2
}
